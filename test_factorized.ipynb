{
 "cells": [
  {
   "cell_type": "code",
   "execution_count": 1,
   "metadata": {},
   "outputs": [],
   "source": [
    "# Copyright (c) Nanjing University, Vision Lab.\n",
    "# Jianqiang Wang (wangjq@smail.nju.edu.cn), Hao Zhu, Zhan Ma, Tong Chen, Haojie Liu, Qiu Shen; Nanjing University, Vision Lab.\n",
    "# Chaofei Wang; Shanghai Jiao Tong University, Cooperative Medianet Innovation Center.\n",
    "# Last update: 2019.10.22\n",
    "# 2019.11.14\n",
    "# 2019.11.22 check bug"
   ]
  },
  {
   "cell_type": "code",
   "execution_count": 2,
   "metadata": {},
   "outputs": [
    {
     "name": "stderr",
     "output_type": "stream",
     "text": [
      "/home/ubuntu/anaconda3/envs/tf/lib/python3.6/site-packages/tensorflow/python/framework/dtypes.py:526: FutureWarning: Passing (type, 1) or '1type' as a synonym of type is deprecated; in a future version of numpy, it will be understood as (type, (1,)) / '(1,)type'.\n",
      "  _np_qint8 = np.dtype([(\"qint8\", np.int8, 1)])\n",
      "/home/ubuntu/anaconda3/envs/tf/lib/python3.6/site-packages/tensorflow/python/framework/dtypes.py:527: FutureWarning: Passing (type, 1) or '1type' as a synonym of type is deprecated; in a future version of numpy, it will be understood as (type, (1,)) / '(1,)type'.\n",
      "  _np_quint8 = np.dtype([(\"quint8\", np.uint8, 1)])\n",
      "/home/ubuntu/anaconda3/envs/tf/lib/python3.6/site-packages/tensorflow/python/framework/dtypes.py:528: FutureWarning: Passing (type, 1) or '1type' as a synonym of type is deprecated; in a future version of numpy, it will be understood as (type, (1,)) / '(1,)type'.\n",
      "  _np_qint16 = np.dtype([(\"qint16\", np.int16, 1)])\n",
      "/home/ubuntu/anaconda3/envs/tf/lib/python3.6/site-packages/tensorflow/python/framework/dtypes.py:529: FutureWarning: Passing (type, 1) or '1type' as a synonym of type is deprecated; in a future version of numpy, it will be understood as (type, (1,)) / '(1,)type'.\n",
      "  _np_quint16 = np.dtype([(\"quint16\", np.uint16, 1)])\n",
      "/home/ubuntu/anaconda3/envs/tf/lib/python3.6/site-packages/tensorflow/python/framework/dtypes.py:530: FutureWarning: Passing (type, 1) or '1type' as a synonym of type is deprecated; in a future version of numpy, it will be understood as (type, (1,)) / '(1,)type'.\n",
      "  _np_qint32 = np.dtype([(\"qint32\", np.int32, 1)])\n",
      "/home/ubuntu/anaconda3/envs/tf/lib/python3.6/site-packages/tensorflow/python/framework/dtypes.py:535: FutureWarning: Passing (type, 1) or '1type' as a synonym of type is deprecated; in a future version of numpy, it will be understood as (type, (1,)) / '(1,)type'.\n",
      "  np_resource = np.dtype([(\"resource\", np.ubyte, 1)])\n"
     ]
    }
   ],
   "source": [
    "import os\n",
    "import time\n",
    "import numpy as np\n",
    "import tensorflow as tf\n",
    "import matplotlib.pylab  as plt\n",
    "import pandas as pd\n",
    "tf.enable_eager_execution()"
   ]
  },
  {
   "cell_type": "code",
   "execution_count": 3,
   "metadata": {
    "scrolled": true
   },
   "outputs": [
    {
     "name": "stdout",
     "output_type": "stream",
     "text": [
      "False\n"
     ]
    }
   ],
   "source": [
    "print(tf.test.is_gpu_available())"
   ]
  },
  {
   "cell_type": "code",
   "execution_count": 4,
   "metadata": {},
   "outputs": [],
   "source": [
    "from mycodec_factorized import preprocess, postprocess, compress, decompress, \\\n",
    "write_binary_files, read_binary_files"
   ]
  },
  {
   "cell_type": "markdown",
   "metadata": {},
   "source": [
    "### set gpu/cpu"
   ]
  },
  {
   "cell_type": "code",
   "execution_count": 5,
   "metadata": {},
   "outputs": [],
   "source": [
    "# os.environ['CUDA_VISIBLE_DEVICES']=\"\" # only cpu\n",
    "\n",
    "config = tf.ConfigProto()\n",
    "config.gpu_options.per_process_gpu_memory_fraction = 0.5\n",
    "config.gpu_options.allow_growth = True\n",
    "config.log_device_placement=True\n",
    "# config.device_count={'gpu':0}\n",
    "sess = tf.Session(config=config)"
   ]
  },
  {
   "cell_type": "markdown",
   "metadata": {},
   "source": [
    "---\n",
    "## Compression"
   ]
  },
  {
   "cell_type": "markdown",
   "metadata": {},
   "source": [
    "\n",
    "###  Pre-process"
   ]
  },
  {
   "cell_type": "code",
   "execution_count": 6,
   "metadata": {},
   "outputs": [],
   "source": [
    "input_file = 'testdata/8iVFB/longdress_vox10_1300.ply'\n",
    "scale = 1.\n",
    "cube_size = 64\n",
    "min_num = 64\n",
    "res = 1024"
   ]
  },
  {
   "cell_type": "code",
   "execution_count": 7,
   "metadata": {
    "scrolled": false
   },
   "outputs": [
    {
     "name": "stdout",
     "output_type": "stream",
     "text": [
      "===== Preprocess =====\n",
      "Scaling: 0.0s\n",
      "Partition: 11.156s\n",
      "Voxelization: 0.1682s\n",
      "cubes shape: (202, 64, 64, 64, 1)\n",
      "points numbers (sum/mean/max/min): 857600 4246 11450 78\n"
     ]
    }
   ],
   "source": [
    "cubes, cube_positions, points_numbers = preprocess(input_file, scale, cube_size, min_num)"
   ]
  },
  {
   "cell_type": "code",
   "execution_count": 8,
   "metadata": {},
   "outputs": [
    {
     "name": "stdout",
     "output_type": "stream",
     "text": [
      "point_numbers (min/max/mean):  78 11450 4245.544554455446\n"
     ]
    },
    {
     "data": {
      "image/png": "[encoded data removed]",
      "text/plain": [
       "<Figure size 432x288 with 1 Axes>"
      ]
     },
     "metadata": {
      "needs_background": "light"
     },
     "output_type": "display_data"
    }
   ],
   "source": [
    "print('point_numbers (min/max/mean): ', points_numbers.min(), points_numbers.max(), points_numbers.mean())\n",
    "plt.title('points numbers')\n",
    "n, bins, patches = plt.hist(points_numbers, bins=16, range=(1, pow(2, 16)))\n",
    "plt.show()"
   ]
  },
  {
   "cell_type": "markdown",
   "metadata": {},
   "source": [
    "### encoding"
   ]
  },
  {
   "cell_type": "code",
   "execution_count": 9,
   "metadata": {},
   "outputs": [],
   "source": [
    "# model = 'model_voxception'\n",
    "import models.model_voxception as model\n",
    "ckpt_dir = './checkpoints/factorized/a2b3/'"
   ]
  },
  {
   "cell_type": "code",
   "execution_count": 10,
   "metadata": {},
   "outputs": [
    {
     "name": "stdout",
     "output_type": "stream",
     "text": [
      "===== Compress =====\n",
      "WARNING:tensorflow:From /home/ubuntu/anaconda3/envs/tf/lib/python3.6/site-packages/tensorflow/python/ops/resource_variable_ops.py:642: colocate_with (from tensorflow.python.framework.ops) is deprecated and will be removed in a future version.\n",
      "Instructions for updating:\n",
      "Colocations handled automatically by placer.\n",
      "Analysis Transform: 113.1422s\n",
      "Entropy Encode: 0.1082s\n",
      "113.4429030418396\n"
     ]
    }
   ],
   "source": [
    "start = time.time()\n",
    "strings, min_v, max_v, shape = compress(cubes, model, ckpt_dir)\n",
    "print(time.time() - start)"
   ]
  },
  {
   "cell_type": "code",
   "execution_count": 11,
   "metadata": {},
   "outputs": [
    {
     "name": "stdout",
     "output_type": "stream",
     "text": [
      "-2 2 [202  16  16  16  16]\n"
     ]
    }
   ],
   "source": [
    "print(min_v.numpy(), max_v.numpy(), shape.numpy())"
   ]
  },
  {
   "cell_type": "markdown",
   "metadata": {},
   "source": [
    "### Write files"
   ]
  },
  {
   "cell_type": "code",
   "execution_count": 12,
   "metadata": {},
   "outputs": [
    {
     "name": "stdout",
     "output_type": "stream",
     "text": [
      "./compressed/ longdress_vox10_1300\n",
      "===== Write binary files =====\n",
      "Total file size (Bytes): 13960\n",
      "Strings (Bytes): 13466\n",
      "Numbers of points (Bytes): 404\n",
      "Positions of cubes (Bytes): 90\n"
     ]
    }
   ],
   "source": [
    "filename = os.path.split(input_file)[-1][:-4]\n",
    "rootdir = './compressed/'\n",
    "print(rootdir, filename)\n",
    "\n",
    "bytes_strings, bytes_pointnums, bytes_cubepos = write_binary_files(\n",
    "    filename, strings.numpy(), points_numbers, cube_positions,\n",
    "    min_v.numpy(), max_v.numpy(), shape.numpy(), rootdir)"
   ]
  },
  {
   "cell_type": "code",
   "execution_count": 13,
   "metadata": {},
   "outputs": [
    {
     "name": "stdout",
     "output_type": "stream",
     "text": [
      "b'longdress_vox10_1300.cubepos\\n'\n",
      "b'longdress_vox10_1300_cubepos.ply\\n'\n",
      "b'longdress_vox10_1300.pointnums\\n'\n",
      "b'longdress_vox10_1300.strings\\n'\n"
     ]
    }
   ],
   "source": [
    "import subprocess\n",
    "subp=subprocess.Popen(\"ls ./compressed/\", \n",
    "                      shell=True, stdout=subprocess.PIPE)\n",
    "\n",
    "c=subp.stdout.readline()\n",
    "while c:\n",
    "    print (c)\n",
    "    c=subp.stdout.readline()\n"
   ]
  },
  {
   "cell_type": "markdown",
   "metadata": {},
   "source": [
    "---\n",
    "## Decompress"
   ]
  },
  {
   "cell_type": "markdown",
   "metadata": {},
   "source": [
    "### Read files"
   ]
  },
  {
   "cell_type": "code",
   "execution_count": 14,
   "metadata": {
    "scrolled": true
   },
   "outputs": [
    {
     "name": "stdout",
     "output_type": "stream",
     "text": [
      "===== Read binary files =====\n"
     ]
    }
   ],
   "source": [
    "strings_d, points_numbers_d, cube_positions_d, min_v_d, max_v_d, shape_d = read_binary_files(filename, rootdir)"
   ]
  },
  {
   "cell_type": "markdown",
   "metadata": {},
   "source": [
    "### decoding"
   ]
  },
  {
   "cell_type": "code",
   "execution_count": 15,
   "metadata": {
    "scrolled": true
   },
   "outputs": [
    {
     "name": "stdout",
     "output_type": "stream",
     "text": [
      "===== Decompress =====\n",
      "Entropy Decode: 0.1576s\n",
      "Synthesis Transform: 119.4757s\n"
     ]
    }
   ],
   "source": [
    "cubes_d = decompress(strings_d, min_v_d, max_v_d, shape_d, model, ckpt_dir)"
   ]
  },
  {
   "cell_type": "markdown",
   "metadata": {},
   "source": [
    "### post-process"
   ]
  },
  {
   "cell_type": "code",
   "execution_count": 16,
   "metadata": {},
   "outputs": [
    {
     "name": "stdout",
     "output_type": "stream",
     "text": [
      "===== Post process =====\n",
      "Classify and extract points: 0.5296s\n",
      "Write point cloud to longdress_vox10_1300_rec.ply: 3.4438s\n"
     ]
    }
   ],
   "source": [
    "rho = 1.0\n",
    "output_file = filename + \"_rec.ply\"\n",
    "\n",
    "postprocess(output_file, cubes_d, points_numbers_d, cube_positions_d, scale, cube_size, rho)"
   ]
  },
  {
   "cell_type": "markdown",
   "metadata": {},
   "source": [
    "---\n",
    "## Metrics"
   ]
  },
  {
   "cell_type": "markdown",
   "metadata": {},
   "source": [
    "### bpp"
   ]
  },
  {
   "cell_type": "code",
   "execution_count": 17,
   "metadata": {},
   "outputs": [],
   "source": [
    "def get_points_number(filedir):\n",
    "    plyfile = open(filedir)\n",
    "\n",
    "    line = plyfile.readline()\n",
    "    while line.find(\"element vertex\") == -1:\n",
    "        line = plyfile.readline()\n",
    "    number = int(line.split(' ')[-1][:-1])\n",
    "    \n",
    "    return number"
   ]
  },
  {
   "cell_type": "code",
   "execution_count": 18,
   "metadata": {},
   "outputs": [
    {
     "name": "stdout",
     "output_type": "stream",
     "text": [
      "857966\n"
     ]
    }
   ],
   "source": [
    "N = get_points_number(input_file)\n",
    "print(N)"
   ]
  },
  {
   "cell_type": "code",
   "execution_count": 19,
   "metadata": {},
   "outputs": [
    {
     "name": "stdout",
     "output_type": "stream",
     "text": [
      "bpp:  0.1301683283486758\n",
      "strings:  0.12556208521083587 points numbers:  0.0037670490439015067 cubes positions:  0.0008391940939384545\n"
     ]
    }
   ],
   "source": [
    "print(\"bpp: \", 8*(bytes_strings + bytes_pointnums + bytes_cubepos)/float(N))\n",
    "print(\"strings: \", 8*bytes_strings/float(N), \"points numbers: \", 8*bytes_pointnums/float(N), \\\n",
    "\"cubes positions: \", 8*bytes_cubepos/float(N))"
   ]
  },
  {
   "cell_type": "markdown",
   "metadata": {},
   "source": [
    "### pc_error"
   ]
  },
  {
   "cell_type": "code",
   "execution_count": 20,
   "metadata": {},
   "outputs": [
    {
     "name": "stdout",
     "output_type": "stream",
     "text": [
      "b'PCC quality measurement software, version 0.13.4\\n'\n",
      "b'\\n'\n",
      "b'infile1:        testdata/8iVFB/longdress_vox10_1300.ply\\n'\n",
      "b'infile2:        longdress_vox10_1300_rec.ply\\n'\n",
      "b'normal1:        testdata/8iVFB/longdress_vox10_1300.ply\\n'\n",
      "b'singlePass:     0\\n'\n",
      "b'hausdorff:      1\\n'\n",
      "b'color:          0\\n'\n",
      "b'lidar:          0\\n'\n",
      "b'resolution:     1023\\n'\n",
      "b'dropDuplicates: 2\\n'\n",
      "b'neighborsProc:  1\\n'\n",
      "b'averageNormals: 1\\n'\n",
      "b'nbThreads:      1\\n'\n",
      "b'\\n'\n",
      "b'Verifying if the data is loaded correctly.. The last point is: 256 902 320\\n'\n",
      "b'Reading file 1 done.\\n'\n",
      "b'Normals loaded from file1.\\n'\n",
      "b'Verifying if the data is loaded correctly.. The last point is: 223 960 320\\n'\n",
      "b'Reading file 2 done.\\n'\n",
      "b'Imported intrinsic resoluiton: 1023\\n'\n",
      "b'Peak distance for PSNR: 1023\\n'\n",
      "b'Point cloud sizes for org version, dec version, and the scaling ratio: 857966, 857398, 0.999338\\n'\n",
      "b'Normals prepared.\\n'\n",
      "b'\\n'\n",
      "b'1. Use infile1 (A) as reference, loop over A, use normals on B. (A->B).\\n'\n",
      "b'   mse1      (p2point): 0.456798\\n'\n",
      "b'   mse1,PSNR (p2point): 68.3715\\n'\n",
      "b'   mse1      (p2plane): 0.144121\\n'\n",
      "b'   mse1,PSNR (p2plane): 73.3814\\n'\n",
      "b'   h.       1(p2point): 107\\n'\n",
      "b'   h.,PSNR  1(p2point): 44.6749\\n'\n",
      "b'   h.       1(p2plane): 15.7771\\n'\n",
      "b'   h.,PSNR  1(p2plane): 52.9885\\n'\n",
      "b'2. Use infile2 (B) as reference, loop over B, use normals on A. (B->A).\\n'\n",
      "b'   mse2      (p2point): 0.31094\\n'\n",
      "b'   mse2,PSNR (p2point): 70.042\\n'\n",
      "b'   mse2      (p2plane): 0.178039\\n'\n",
      "b'   mse2,PSNR (p2plane): 72.4636\\n'\n",
      "b'   h.       2(p2point): 98\\n'\n",
      "b'   h.,PSNR  2(p2point): 45.0565\\n'\n",
      "b'   h.       2(p2plane): 97.345\\n'\n",
      "b'   h.,PSNR  2(p2plane): 45.0856\\n'\n",
      "b'3. Final (symmetric).\\n'\n",
      "b'   mseF      (p2point): 0.456798\\n'\n",
      "b'   mseF,PSNR (p2point): 68.3715\\n'\n",
      "b'   mseF      (p2plane): 0.178039\\n'\n",
      "b'   mseF,PSNR (p2plane): 72.4636\\n'\n",
      "b'   h.        (p2point): 107\\n'\n",
      "b'   h.,PSNR   (p2point): 44.6749\\n'\n",
      "b'   h.        (p2plane): 97.345\\n'\n",
      "b'   h.,PSNR   (p2plane): 45.0856\\n'\n",
      "b'Job done! 12.298 seconds elapsed (excluding the time to load the point clouds).\\n'\n",
      "None\n"
     ]
    }
   ],
   "source": [
    "import subprocess\n",
    "\n",
    "subp=subprocess.Popen(\"myutils/pc_error_d\" \n",
    "                      + ' -a ' + input_file\n",
    "                      + ' -b ' + output_file\n",
    "                      +' -n ' + input_file \n",
    "                      + ' --hausdorff=1 '\n",
    "                      + \" -r \"+str(res-1), \n",
    "                      shell=True, stdout=subprocess.PIPE)\n",
    "\n",
    "c=subp.stdout.readline()\n",
    "while c:\n",
    "    print(c)\n",
    "    c=subp.stdout.readline()\n",
    "\n",
    "print(subp.returncode)"
   ]
  },
  {
   "cell_type": "code",
   "execution_count": 21,
   "metadata": {},
   "outputs": [],
   "source": [
    "import open3d as o3d\n",
    "\n",
    "pcd = o3d.io.read_point_cloud(input_file)"
   ]
  },
  {
   "cell_type": "code",
   "execution_count": 22,
   "metadata": {},
   "outputs": [],
   "source": [
    "o3d.visualization.draw_geometries([pcd])"
   ]
  },
  {
   "cell_type": "code",
   "execution_count": 23,
   "metadata": {},
   "outputs": [],
   "source": [
    "pcd_rec = o3d.io.read_point_cloud(output_file)\n",
    "o3d.visualization.draw_geometries([pcd_rec])"
   ]
  },
  {
   "cell_type": "code",
   "execution_count": null,
   "metadata": {},
   "outputs": [],
   "source": []
  }
 ],
 "metadata": {
  "kernelspec": {
   "display_name": "Python 2",
   "language": "python",
   "name": "python2"
  },
  "language_info": {
   "codemirror_mode": {
    "name": "ipython",
    "version": 3
   },
   "file_extension": ".py",
   "mimetype": "text/x-python",
   "name": "python",
   "nbconvert_exporter": "python",
   "pygments_lexer": "ipython3",
   "version": "3.6.12"
  }
 },
 "nbformat": 4,
 "nbformat_minor": 2
}
