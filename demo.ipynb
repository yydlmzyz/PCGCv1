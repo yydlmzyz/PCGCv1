{
 "cells": [
  {
   "cell_type": "code",
   "execution_count": 1,
   "metadata": {},
   "outputs": [],
   "source": [
    "# Copyright (c) Nanjing University, Vision Lab.\n",
    "# Last update: 2020.12.09"
   ]
  },
  {
   "cell_type": "code",
   "execution_count": 5,
   "metadata": {},
   "outputs": [],
   "source": [
    "import os\n",
    "import time\n",
    "import numpy as np\n",
    "import tensorflow as tf\n",
    "import matplotlib.pylab  as plt\n",
    "import pandas as pd\n",
    "tf.enable_eager_execution()"
   ]
  },
  {
   "cell_type": "code",
   "execution_count": 6,
   "metadata": {},
   "outputs": [
    {
     "name": "stdout",
     "output_type": "stream",
     "text": [
      "1.13.1\n",
      "True\n"
     ]
    }
   ],
   "source": [
    "print(tf.__version__)\n",
    "print(tf.test.is_gpu_available())"
   ]
  },
  {
   "cell_type": "markdown",
   "metadata": {},
   "source": [
    "### set gpu/cpu"
   ]
  },
  {
   "cell_type": "code",
   "execution_count": 7,
   "metadata": {},
   "outputs": [],
   "source": [
    "# os.environ['CUDA_VISIBLE_DEVICES']=\"\" # only cpu\n",
    "\n",
    "config = tf.ConfigProto()\n",
    "config.gpu_options.per_process_gpu_memory_fraction = 0.5\n",
    "config.gpu_options.allow_growth = True\n",
    "config.log_device_placement=True\n",
    "# config.device_count={'gpu':0}\n",
    "sess = tf.Session(config=config)"
   ]
  },
  {
   "cell_type": "markdown",
   "metadata": {},
   "source": [
    "---\n",
    "## Compression"
   ]
  },
  {
   "cell_type": "markdown",
   "metadata": {},
   "source": [
    "\n",
    "###  Pre-process"
   ]
  },
  {
   "cell_type": "code",
   "execution_count": 8,
   "metadata": {},
   "outputs": [],
   "source": [
    "from process import preprocess"
   ]
  },
  {
   "cell_type": "code",
   "execution_count": 9,
   "metadata": {},
   "outputs": [],
   "source": [
    "input_file = 'testdata/8iVFB/longdress_vox10_1300.ply'\n",
    "scale = 1.\n",
    "cube_size = 64\n",
    "min_num = 64\n",
    "res = 1024"
   ]
  },
  {
   "cell_type": "code",
   "execution_count": 10,
   "metadata": {
    "scrolled": false
   },
   "outputs": [
    {
     "name": "stdout",
     "output_type": "stream",
     "text": [
      "===== Preprocess =====\n",
      "Scaling: 0.0s\n",
      "Partition: 10.1974s\n",
      "Voxelization: 0.1488s\n",
      "cubes shape: (202, 64, 64, 64, 1)\n",
      "points numbers (sum/mean/max/min): 857600 4246 11450 78\n"
     ]
    }
   ],
   "source": [
    "cubes, cube_positions, points_numbers = preprocess(input_file, scale, cube_size, min_num)"
   ]
  },
  {
   "cell_type": "code",
   "execution_count": 11,
   "metadata": {},
   "outputs": [
    {
     "name": "stdout",
     "output_type": "stream",
     "text": [
      "point_numbers (min/max/mean):  78 11450 4245\n"
     ]
    },
    {
     "data": {
      "image/png": "[encoded data removed]",
      "text/plain": [
       "<Figure size 720x144 with 1 Axes>"
      ]
     },
     "metadata": {
      "needs_background": "light"
     },
     "output_type": "display_data"
    }
   ],
   "source": [
    "fig = plt.figure(figsize=(10,2))\n",
    "print('point_numbers (min/max/mean): ', points_numbers.min(), points_numbers.max(), \n",
    "      int(points_numbers.mean()))\n",
    "plt.title('points numbers')\n",
    "n, bins, patches = plt.hist(points_numbers, bins=256, range=(1, pow(2, 16)))\n",
    "plt.show()"
   ]
  },
  {
   "cell_type": "markdown",
   "metadata": {},
   "source": [
    "### encoding"
   ]
  },
  {
   "cell_type": "code",
   "execution_count": 12,
   "metadata": {},
   "outputs": [],
   "source": [
    "from transform import compress_factorized, decompress_factorized"
   ]
  },
  {
   "cell_type": "code",
   "execution_count": 13,
   "metadata": {},
   "outputs": [],
   "source": [
    "import models.model_voxception as model\n",
    "# import models.model_simple as model\n",
    "# import models.model_quach as model\n",
    "# import models.model_baseline as model\n",
    "ckpt_dir = './checkpoints/factorized/a2b3/'"
   ]
  },
  {
   "cell_type": "code",
   "execution_count": 14,
   "metadata": {},
   "outputs": [
    {
     "name": "stdout",
     "output_type": "stream",
     "text": [
      "===== Compress =====\n",
      "WARNING:tensorflow:From /home/ubuntu/anaconda3/envs/tf13/lib/python3.6/site-packages/tensorflow/python/ops/resource_variable_ops.py:642: colocate_with (from tensorflow.python.framework.ops) is deprecated and will be removed in a future version.\n",
      "Instructions for updating:\n",
      "Colocations handled automatically by placer.\n",
      "Analysis Transform: 7.4024s\n",
      "Entropy Encode: 0.1356s\n",
      "7.725878000259399\n"
     ]
    }
   ],
   "source": [
    "start = time.time()\n",
    "strings, min_v, max_v, shape = compress_factorized(cubes, model, ckpt_dir)\n",
    "print(time.time() - start)"
   ]
  },
  {
   "cell_type": "code",
   "execution_count": 15,
   "metadata": {},
   "outputs": [
    {
     "name": "stdout",
     "output_type": "stream",
     "text": [
      "-2 2 [202  16  16  16  16]\n"
     ]
    }
   ],
   "source": [
    "print(min_v.numpy(), max_v.numpy(), shape.numpy())"
   ]
  },
  {
   "cell_type": "markdown",
   "metadata": {},
   "source": [
    "### Write files"
   ]
  },
  {
   "cell_type": "code",
   "execution_count": 16,
   "metadata": {},
   "outputs": [
    {
     "name": "stdout",
     "output_type": "stream",
     "text": [
      "./compressed/ longdress_vox10_1300\n",
      "===== Write binary files =====\n",
      "Total file size (Bytes): 13960\n",
      "Strings (Bytes): 13466\n",
      "Numbers of points (Bytes): 404\n",
      "Positions of cubes (Bytes): 90\n"
     ]
    }
   ],
   "source": [
    "from dataprocess.inout_bitstream import write_binary_files_factorized\n",
    "filename = os.path.split(input_file)[-1][:-4]\n",
    "rootdir = './compressed/'\n",
    "print(rootdir, filename)\n",
    "\n",
    "bytes_strings, bytes_pointnums, bytes_cubepos = write_binary_files_factorized(\n",
    "    filename, strings.numpy(), points_numbers, cube_positions,\n",
    "    min_v.numpy(), max_v.numpy(), shape.numpy(), rootdir)"
   ]
  },
  {
   "cell_type": "code",
   "execution_count": 17,
   "metadata": {},
   "outputs": [
    {
     "name": "stdout",
     "output_type": "stream",
     "text": [
      "b'longdress_vox10_1300.cubepos\\n'\n",
      "b'longdress_vox10_1300_cubepos.ply\\n'\n",
      "b'longdress_vox10_1300.pointnums\\n'\n",
      "b'longdress_vox10_1300.strings\\n'\n",
      "b'longdress_vox10_1300.strings_head\\n'\n",
      "b'longdress_vox10_1300.strings_hyper\\n'\n"
     ]
    }
   ],
   "source": [
    "import subprocess\n",
    "subp=subprocess.Popen(\"ls ./compressed/\", \n",
    "                      shell=True, stdout=subprocess.PIPE)\n",
    "c=subp.stdout.readline()\n",
    "while c:\n",
    "    print (c)\n",
    "    c=subp.stdout.readline()"
   ]
  },
  {
   "cell_type": "markdown",
   "metadata": {},
   "source": [
    "---\n",
    "## Decompress"
   ]
  },
  {
   "cell_type": "markdown",
   "metadata": {},
   "source": [
    "### Read files"
   ]
  },
  {
   "cell_type": "code",
   "execution_count": 18,
   "metadata": {
    "scrolled": true
   },
   "outputs": [
    {
     "name": "stdout",
     "output_type": "stream",
     "text": [
      "===== Read binary files =====\n"
     ]
    }
   ],
   "source": [
    "from dataprocess.inout_bitstream import read_binary_files_factorized\n",
    "strings_d, points_numbers_d, cube_positions_d, min_v_d, max_v_d, shape_d = \\\n",
    "                                            read_binary_files_factorized(filename, rootdir)"
   ]
  },
  {
   "cell_type": "markdown",
   "metadata": {},
   "source": [
    "### decoding"
   ]
  },
  {
   "cell_type": "code",
   "execution_count": 19,
   "metadata": {
    "scrolled": true
   },
   "outputs": [
    {
     "name": "stdout",
     "output_type": "stream",
     "text": [
      "===== Decompress =====\n",
      "Entropy Decode: 0.1505s\n",
      "Synthesis Transform: 6.7069s\n"
     ]
    }
   ],
   "source": [
    "from transform import decompress_factorized\n",
    "cubes_d = decompress_factorized(strings_d, min_v_d, max_v_d, shape_d, model, ckpt_dir)"
   ]
  },
  {
   "cell_type": "code",
   "execution_count": 20,
   "metadata": {},
   "outputs": [],
   "source": [
    "# _ = plt.hist(cubes_d.numpy().reshape(-1), bins=512)"
   ]
  },
  {
   "cell_type": "markdown",
   "metadata": {},
   "source": [
    "### post-process"
   ]
  },
  {
   "cell_type": "code",
   "execution_count": 21,
   "metadata": {},
   "outputs": [
    {
     "name": "stdout",
     "output_type": "stream",
     "text": [
      "===== Post process =====\n",
      "Classify and extract points: 0.649s\n",
      "Write point cloud to longdress_vox10_1300_rec.ply: 3.2594s\n"
     ]
    }
   ],
   "source": [
    "from process import postprocess\n",
    "rho = 1.0\n",
    "output_file = filename + \"_rec.ply\"\n",
    "postprocess(output_file, cubes_d.numpy(), \n",
    "            points_numbers_d, cube_positions_d, scale, cube_size, rho)"
   ]
  },
  {
   "cell_type": "markdown",
   "metadata": {},
   "source": [
    "---\n",
    "## Metrics"
   ]
  },
  {
   "cell_type": "markdown",
   "metadata": {},
   "source": [
    "### bpp"
   ]
  },
  {
   "cell_type": "code",
   "execution_count": 22,
   "metadata": {},
   "outputs": [],
   "source": [
    "def get_points_number(filedir):\n",
    "    plyfile = open(filedir)\n",
    "\n",
    "    line = plyfile.readline()\n",
    "    while line.find(\"element vertex\") == -1:\n",
    "        line = plyfile.readline()\n",
    "    number = int(line.split(' ')[-1][:-1])\n",
    "    \n",
    "    return number"
   ]
  },
  {
   "cell_type": "code",
   "execution_count": 23,
   "metadata": {},
   "outputs": [
    {
     "name": "stdout",
     "output_type": "stream",
     "text": [
      "857966\n"
     ]
    }
   ],
   "source": [
    "N = get_points_number(input_file)\n",
    "print(N)"
   ]
  },
  {
   "cell_type": "code",
   "execution_count": 24,
   "metadata": {},
   "outputs": [
    {
     "name": "stdout",
     "output_type": "stream",
     "text": [
      "bpp:  0.1302\n",
      "strings:  0.1256 points numbers:  0.0038 cubes positions:  0.0008\n"
     ]
    }
   ],
   "source": [
    "print(\"bpp: \", round(8*(bytes_strings + bytes_pointnums + bytes_cubepos)/float(N), 4))\n",
    "print(\"strings: \", round(8*bytes_strings/float(N),4), \n",
    "      \"points numbers: \", round(8*bytes_pointnums/float(N),4), \n",
    "      \"cubes positions: \", round(8*bytes_cubepos/float(N),4))"
   ]
  },
  {
   "cell_type": "markdown",
   "metadata": {},
   "source": [
    "### pc_error"
   ]
  },
  {
   "cell_type": "code",
   "execution_count": 25,
   "metadata": {
    "scrolled": true
   },
   "outputs": [
    {
     "name": "stdout",
     "output_type": "stream",
     "text": [
      "b'PCC quality measurement software, version 0.13.4\\n'\n",
      "b'\\n'\n",
      "b'infile1:        testdata/8iVFB/longdress_vox10_1300.ply\\n'\n",
      "b'infile2:        longdress_vox10_1300_rec.ply\\n'\n",
      "b'normal1:        testdata/8iVFB/longdress_vox10_1300.ply\\n'\n",
      "b'singlePass:     0\\n'\n",
      "b'hausdorff:      1\\n'\n",
      "b'color:          0\\n'\n",
      "b'lidar:          0\\n'\n",
      "b'resolution:     1023\\n'\n",
      "b'dropDuplicates: 2\\n'\n",
      "b'neighborsProc:  1\\n'\n",
      "b'averageNormals: 1\\n'\n",
      "b'nbThreads:      1\\n'\n",
      "b'\\n'\n",
      "b'Verifying if the data is loaded correctly.. The last point is: 256 902 320\\n'\n",
      "b'Reading file 1 done.\\n'\n",
      "b'Normals loaded from file1.\\n'\n",
      "b'Verifying if the data is loaded correctly.. The last point is: 223 960 320\\n'\n",
      "b'Reading file 2 done.\\n'\n",
      "b'Imported intrinsic resoluiton: 1023\\n'\n",
      "b'Peak distance for PSNR: 1023\\n'\n",
      "b'Point cloud sizes for org version, dec version, and the scaling ratio: 857966, 857600, 0.999573\\n'\n",
      "b'Normals prepared.\\n'\n",
      "b'\\n'\n",
      "b'1. Use infile1 (A) as reference, loop over A, use normals on B. (A->B).\\n'\n",
      "b'   mse1      (p2point): 0.45654\\n'\n",
      "b'   mse1,PSNR (p2point): 68.3739\\n'\n",
      "b'   mse1      (p2plane): 0.144076\\n'\n",
      "b'   mse1,PSNR (p2plane): 73.3828\\n'\n",
      "b'   h.       1(p2point): 107\\n'\n",
      "b'   h.,PSNR  1(p2point): 44.6749\\n'\n",
      "b'   h.       1(p2plane): 15.7771\\n'\n",
      "b'   h.,PSNR  1(p2plane): 52.9885\\n'\n",
      "b'2. Use infile2 (B) as reference, loop over B, use normals on A. (B->A).\\n'\n",
      "b'   mse2      (p2point): 0.311119\\n'\n",
      "b'   mse2,PSNR (p2point): 70.0395\\n'\n",
      "b'   mse2      (p2plane): 0.178194\\n'\n",
      "b'   mse2,PSNR (p2plane): 72.4598\\n'\n",
      "b'   h.       2(p2point): 98\\n'\n",
      "b'   h.,PSNR  2(p2point): 45.0565\\n'\n",
      "b'   h.       2(p2plane): 97.345\\n'\n",
      "b'   h.,PSNR  2(p2plane): 45.0856\\n'\n",
      "b'3. Final (symmetric).\\n'\n",
      "b'   mseF      (p2point): 0.45654\\n'\n",
      "b'   mseF,PSNR (p2point): 68.3739\\n'\n",
      "b'   mseF      (p2plane): 0.178194\\n'\n",
      "b'   mseF,PSNR (p2plane): 72.4598\\n'\n",
      "b'   h.        (p2point): 107\\n'\n",
      "b'   h.,PSNR   (p2point): 44.6749\\n'\n",
      "b'   h.        (p2plane): 97.345\\n'\n",
      "b'   h.,PSNR   (p2plane): 45.0856\\n'\n",
      "b'Job done! 11.576 seconds elapsed (excluding the time to load the point clouds).\\n'\n",
      "None\n"
     ]
    }
   ],
   "source": [
    "import subprocess\n",
    "\n",
    "subp=subprocess.Popen(\"myutils/pc_error_d\" \n",
    "                      + ' -a ' + input_file\n",
    "                      + ' -b ' + output_file\n",
    "                      +' -n ' + input_file \n",
    "                      + ' --hausdorff=1 '\n",
    "                      + \" -r \"+str(res-1), \n",
    "                      shell=True, stdout=subprocess.PIPE)\n",
    "\n",
    "c=subp.stdout.readline()\n",
    "while c:\n",
    "    print(c)\n",
    "    c=subp.stdout.readline()\n",
    "\n",
    "print(subp.returncode)"
   ]
  },
  {
   "cell_type": "code",
   "execution_count": 26,
   "metadata": {},
   "outputs": [],
   "source": [
    "import open3d as o3d\n",
    "pcd = o3d.io.read_point_cloud(input_file)"
   ]
  },
  {
   "cell_type": "code",
   "execution_count": 27,
   "metadata": {},
   "outputs": [],
   "source": [
    "o3d.visualization.draw_geometries([pcd])"
   ]
  },
  {
   "cell_type": "code",
   "execution_count": 28,
   "metadata": {},
   "outputs": [],
   "source": [
    "pcd_rec = o3d.io.read_point_cloud(output_file)\n",
    "o3d.visualization.draw_geometries([pcd_rec])"
   ]
  },
  {
   "cell_type": "markdown",
   "metadata": {},
   "source": [
    "---\n",
    "# Model with Hyperprior"
   ]
  },
  {
   "cell_type": "code",
   "execution_count": 33,
   "metadata": {},
   "outputs": [],
   "source": [
    "input_file = 'testdata/8iVFB/longdress_vox10_1300.ply'\n",
    "scale = 1.\n",
    "cube_size = 64\n",
    "min_num = 64\n",
    "res = 1024"
   ]
  },
  {
   "cell_type": "code",
   "execution_count": 34,
   "metadata": {},
   "outputs": [
    {
     "name": "stdout",
     "output_type": "stream",
     "text": [
      "===== Preprocess =====\n",
      "Scaling: 0.0s\n",
      "Partition: 10.4049s\n",
      "Voxelization: 0.4471s\n",
      "cubes shape: (202, 64, 64, 64, 1)\n",
      "points numbers (sum/mean/max/min): 857600 4246 11450 78\n"
     ]
    }
   ],
   "source": [
    "from process import preprocess\n",
    "cubes, cube_positions, points_numbers = preprocess(input_file, scale, cube_size, min_num)"
   ]
  },
  {
   "cell_type": "markdown",
   "metadata": {},
   "source": [
    "## compress"
   ]
  },
  {
   "cell_type": "code",
   "execution_count": 49,
   "metadata": {},
   "outputs": [],
   "source": [
    "import models.model_voxception as model\n",
    "from transform import compress_hyper\n",
    "ckpt_dir = './checkpoints/hyper/a0.75b3/'"
   ]
  },
  {
   "cell_type": "code",
   "execution_count": 50,
   "metadata": {},
   "outputs": [
    {
     "name": "stdout",
     "output_type": "stream",
     "text": [
      "===== Compress =====\n",
      "Analysis Transform: 5.839s\n",
      "Hyper Encoder: 0.18s\n",
      "Quantize hyperprior.\n",
      "Hyper Decoder: 0.3564s\n",
      "Entropy Encode (Hyper): 0.0091s\n",
      "Entropy Encode: 1.3656s\n",
      "Entropy Decode: 1.3281s\n",
      "Synthesis Transform: 6.6119s\n",
      "15.9921\n"
     ]
    }
   ],
   "source": [
    "start = time.time()\n",
    "y_strings, y_min_vs, y_max_vs, y_shape, z_strings, z_min_v, z_max_v, z_shape, x_ds = \\\n",
    "compress_hyper(cubes, model, ckpt_dir, True)\n",
    "print(round(time.time() - start, 4))"
   ]
  },
  {
   "cell_type": "code",
   "execution_count": 51,
   "metadata": {},
   "outputs": [
    {
     "name": "stdout",
     "output_type": "stream",
     "text": [
      "===== Write binary files =====\n",
      "Total file size (Bytes): 12148\n",
      "Strings (Bytes): 7128\n",
      "Strings head (Bytes): 416\n",
      "Strings hyper (Bytes): 4110\n",
      "Numbers of points (Bytes): 404\n",
      "Positions of cubes (Bytes): 90\n"
     ]
    }
   ],
   "source": [
    "from dataprocess.inout_bitstream import write_binary_files_hyper\n",
    "filename = os.path.split(input_file)[-1][:-4]\n",
    "rootdir = './compressed/'\n",
    "\n",
    "bytes_strings, bytes_strings_head, bytes_strings_hyper, bytes_pointnums, bytes_cubepos = \\\n",
    "    write_binary_files_hyper(\n",
    "    filename, y_strings.numpy(), z_strings.numpy(), points_numbers, cube_positions,\n",
    "    y_min_vs.numpy(), y_max_vs.numpy(), y_shape.numpy(), \n",
    "    z_min_v.numpy(), z_max_v.numpy(), z_shape.numpy(), rootdir)"
   ]
  },
  {
   "cell_type": "markdown",
   "metadata": {},
   "source": [
    "## decompress"
   ]
  },
  {
   "cell_type": "code",
   "execution_count": 52,
   "metadata": {},
   "outputs": [
    {
     "name": "stdout",
     "output_type": "stream",
     "text": [
      "===== Read binary files =====\n"
     ]
    }
   ],
   "source": [
    "from dataprocess.inout_bitstream import read_binary_files_hyper\n",
    "y_strings_d, z_strings_d, points_numbers_d, cube_positions_d, \\\n",
    "y_min_vs_d, y_max_vs_d, y_shape_d, z_min_v_d, z_max_v_d, z_shape_d = \\\n",
    "read_binary_files_hyper(filename, rootdir)"
   ]
  },
  {
   "cell_type": "code",
   "execution_count": 53,
   "metadata": {},
   "outputs": [
    {
     "name": "stdout",
     "output_type": "stream",
     "text": [
      "===== Decompress =====\n",
      "Entropy Decoder (Hyper): 0.026s\n",
      "Hyper Decoder: 0.3464s\n",
      "Entropy Decoder: 1.3539s\n",
      "Synthesis Transform: 6.6596s\n"
     ]
    }
   ],
   "source": [
    "from transform import decompress_hyper\n",
    "cubes_d = decompress_hyper(y_strings_d, y_min_vs_d.astype('int32'), y_max_vs_d.astype('int32'), y_shape_d, \n",
    "                     z_strings_d, z_min_v_d, z_max_v_d, z_shape_d, model, ckpt_dir)"
   ]
  },
  {
   "cell_type": "code",
   "execution_count": 54,
   "metadata": {},
   "outputs": [
    {
     "name": "stdout",
     "output_type": "stream",
     "text": [
      "error on gpu: 1.1444092e-05\n"
     ]
    }
   ],
   "source": [
    "# check\n",
    "print(\"error on gpu:\", tf.reduce_max(tf.abs(cubes_d - x_ds)).numpy())"
   ]
  },
  {
   "cell_type": "code",
   "execution_count": 55,
   "metadata": {},
   "outputs": [
    {
     "name": "stdout",
     "output_type": "stream",
     "text": [
      "longdress_vox10_1300_rec.ply\n",
      "===== Post process =====\n",
      "Classify and extract points: 0.359s\n",
      "Write point cloud to longdress_vox10_1300_rec.ply: 3.3553s\n"
     ]
    }
   ],
   "source": [
    "from process import postprocess\n",
    "# cubes_d = x_ds\n",
    "rho = 1.0\n",
    "output_file = filename + \"_rec.ply\"\n",
    "print(output_file)\n",
    "\n",
    "postprocess(output_file, cubes_d.numpy(), \n",
    "            points_numbers_d, cube_positions_d, scale, cube_size, rho)\n",
    "# cheat\n",
    "# postprocess(output_file, x_ds, points_numbers_d, cube_positions_d, scale, cube_size, rho)"
   ]
  },
  {
   "cell_type": "markdown",
   "metadata": {},
   "source": [
    "## metric"
   ]
  },
  {
   "cell_type": "code",
   "execution_count": 56,
   "metadata": {},
   "outputs": [
    {
     "name": "stdout",
     "output_type": "stream",
     "text": [
      "857966.0\n",
      "bpp:  0.1133\n",
      "strings:  0.0665 strings_hyper:  0.0383 \n",
      " strings_head:  0.0039 points numbers:  0.0038 cubes positions:  0.0008\n"
     ]
    }
   ],
   "source": [
    "def get_points_number(filedir):\n",
    "    plyfile = open(filedir)\n",
    "\n",
    "    line = plyfile.readline()\n",
    "    while line.find(\"element vertex\") == -1:\n",
    "        line = plyfile.readline()\n",
    "    number = float(line.split(' ')[-1][:-1])\n",
    "    \n",
    "    return number\n",
    "\n",
    "N = get_points_number(input_file)\n",
    "print(N)\n",
    "\n",
    "print(\"bpp: \", \n",
    "      round(8*(bytes_strings \n",
    "               + bytes_strings_head + \n",
    "               bytes_strings_hyper + \n",
    "               bytes_pointnums + \n",
    "               bytes_cubepos)/N,4))\n",
    "print(\"strings: \", round(8*bytes_strings/N,4), \n",
    "      \"strings_hyper: \", round(8*bytes_strings_hyper/N,4), '\\n', \n",
    "      \"strings_head: \", round(8*bytes_strings_head/N,4), \n",
    "      \"points numbers: \", round(8*bytes_pointnums/N,4), \n",
    "      \"cubes positions: \", round(8*bytes_cubepos/N,4))"
   ]
  },
  {
   "cell_type": "code",
   "execution_count": 57,
   "metadata": {},
   "outputs": [
    {
     "name": "stdout",
     "output_type": "stream",
     "text": [
      "b'PCC quality measurement software, version 0.13.4\\n'\n",
      "b'\\n'\n",
      "b'infile1:        testdata/8iVFB/longdress_vox10_1300.ply\\n'\n",
      "b'infile2:        longdress_vox10_1300_rec.ply\\n'\n",
      "b'normal1:        testdata/8iVFB/longdress_vox10_1300.ply\\n'\n",
      "b'singlePass:     0\\n'\n",
      "b'hausdorff:      1\\n'\n",
      "b'color:          0\\n'\n",
      "b'lidar:          0\\n'\n",
      "b'resolution:     1023\\n'\n",
      "b'dropDuplicates: 2\\n'\n",
      "b'neighborsProc:  1\\n'\n",
      "b'averageNormals: 1\\n'\n",
      "b'nbThreads:      1\\n'\n",
      "b'\\n'\n",
      "b'Verifying if the data is loaded correctly.. The last point is: 256 902 320\\n'\n",
      "b'Reading file 1 done.\\n'\n",
      "b'Normals loaded from file1.\\n'\n",
      "b'Verifying if the data is loaded correctly.. The last point is: 220 960 323\\n'\n",
      "b'Reading file 2 done.\\n'\n",
      "b'Imported intrinsic resoluiton: 1023\\n'\n",
      "b'Peak distance for PSNR: 1023\\n'\n",
      "b'Point cloud sizes for org version, dec version, and the scaling ratio: 857966, 857600, 0.999573\\n'\n",
      "b'Normals prepared.\\n'\n",
      "b'\\n'\n",
      "b'1. Use infile1 (A) as reference, loop over A, use normals on B. (A->B).\\n'\n",
      "b'   mse1      (p2point): 0.531367\\n'\n",
      "b'   mse1,PSNR (p2point): 67.7148\\n'\n",
      "b'   mse1      (p2plane): 0.190819\\n'\n",
      "b'   mse1,PSNR (p2plane): 72.1625\\n'\n",
      "b'   h.       1(p2point): 94\\n'\n",
      "b'   h.,PSNR  1(p2point): 45.2374\\n'\n",
      "b'   h.       1(p2plane): 22.7506\\n'\n",
      "b'   h.,PSNR  1(p2plane): 51.3988\\n'\n",
      "b'2. Use infile2 (B) as reference, loop over B, use normals on A. (B->A).\\n'\n",
      "b'   mse2      (p2point): 0.388849\\n'\n",
      "b'   mse2,PSNR (p2point): 69.0709\\n'\n",
      "b'   mse2      (p2plane): 0.2414\\n'\n",
      "b'   mse2,PSNR (p2plane): 71.1413\\n'\n",
      "b'   h.       2(p2point): 37\\n'\n",
      "b'   h.,PSNR  2(p2point): 49.2867\\n'\n",
      "b'   h.       2(p2plane): 35.2584\\n'\n",
      "b'   h.,PSNR  2(p2plane): 49.4961\\n'\n",
      "b'3. Final (symmetric).\\n'\n",
      "b'   mseF      (p2point): 0.531367\\n'\n",
      "b'   mseF,PSNR (p2point): 67.7148\\n'\n",
      "b'   mseF      (p2plane): 0.2414\\n'\n",
      "b'   mseF,PSNR (p2plane): 71.1413\\n'\n",
      "b'   h.        (p2point): 94\\n'\n",
      "b'   h.,PSNR   (p2point): 45.2374\\n'\n",
      "b'   h.        (p2plane): 35.2584\\n'\n",
      "b'   h.,PSNR   (p2plane): 49.4961\\n'\n",
      "b'Job done! 11.667 seconds elapsed (excluding the time to load the point clouds).\\n'\n",
      "None\n"
     ]
    }
   ],
   "source": [
    "import subprocess\n",
    "\n",
    "input_file_n = input_file[:-4]+'.ply'\n",
    "subp=subprocess.Popen(\"myutils/pc_error_d\" \n",
    "                      + ' -a ' + input_file\n",
    "                      + ' -b ' + output_file\n",
    "                      +' -n ' + input_file \n",
    "                      + ' --hausdorff=1 '\n",
    "                      + \" -r \"+str(res-1), \n",
    "                      shell=True, stdout=subprocess.PIPE)\n",
    "\n",
    "c=subp.stdout.readline()\n",
    "while c:\n",
    "    print(c)\n",
    "    c=subp.stdout.readline()\n",
    "\n",
    "print(subp.returncode)"
   ]
  },
  {
   "cell_type": "code",
   "execution_count": 58,
   "metadata": {},
   "outputs": [],
   "source": [
    "import open3d as o3d\n",
    "pcd = o3d.io.read_point_cloud(input_file)\n",
    "o3d.visualization.draw_geometries([pcd])"
   ]
  },
  {
   "cell_type": "code",
   "execution_count": 59,
   "metadata": {},
   "outputs": [],
   "source": [
    "pcd_rec = o3d.io.read_point_cloud(output_file)\n",
    "o3d.visualization.draw_geometries([pcd_rec])"
   ]
  },
  {
   "cell_type": "markdown",
   "metadata": {},
   "source": [
    "## select optimal rho"
   ]
  },
  {
   "cell_type": "code",
   "execution_count": 60,
   "metadata": {},
   "outputs": [],
   "source": [
    "from myutils.pc_error_wrapper import pc_error"
   ]
  },
  {
   "cell_type": "code",
   "execution_count": 61,
   "metadata": {},
   "outputs": [],
   "source": [
    "def select_rho(item, input_file, output_file, input_file_n, \n",
    "               cubes_d, points_numbers_d, cube_positions_d, scale, cube_size, res):\n",
    "    steps = [0.05]*6+[0.10]*3\n",
    "    MAX = 0\n",
    "    rho = 1.0\n",
    "    optimal_rho = 1.0\n",
    "\n",
    "    for i, step in enumerate(steps):\n",
    "        print('===== select rho =====')\n",
    "        print(rho)\n",
    "        postprocess(output_file, cubes_d.numpy(), \n",
    "                    points_numbers_d, cube_positions_d, scale, cube_size, rho)\n",
    "        results = pc_error(input_file, output_file, input_file_n, res, show=False)\n",
    "        \n",
    "        # record results.\n",
    "        results[\"n_points\"] = get_points_number(output_file)\n",
    "        results[\"rho\"] = rho\n",
    "        if i == 0:\n",
    "            all_results = results.copy(deep=True)\n",
    "        else:\n",
    "            all_results = all_results.append(results, ignore_index=True)\n",
    "        \n",
    "        PSNR = float(results[item])\n",
    "        print('===== results: ', i, rho, item, PSNR)\n",
    "        MAX = max(PSNR, MAX)\n",
    "        if PSNR < MAX:\n",
    "            break\n",
    "        else:\n",
    "            optimal_rho = rho\n",
    "        if item == \"mseF,PSNR (p2point)\":\n",
    "            rho += step\n",
    "        elif item == \"mseF,PSNR (p2plane)\":\n",
    "            rho -= step\n",
    "        else:\n",
    "            print('ERROR', item)\n",
    "            break\n",
    "    return optimal_rho, all_results"
   ]
  },
  {
   "cell_type": "code",
   "execution_count": 62,
   "metadata": {},
   "outputs": [
    {
     "name": "stdout",
     "output_type": "stream",
     "text": [
      "===== select rho =====\n",
      "1.0\n",
      "===== Post process =====\n",
      "Classify and extract points: 0.4908s\n",
      "Write point cloud to longdress_vox10_1300_rec.ply: 3.2203s\n",
      "===== measure PCC quality using `pc_error` version 0.13.4 21.9627\n",
      "===== results:  0 1.0 mseF,PSNR (p2point) 67.7148\n",
      "===== select rho =====\n",
      "1.05\n",
      "===== Post process =====\n",
      "Classify and extract points: 0.3364s\n",
      "Write point cloud to longdress_vox10_1300_rec.ply: 3.2875s\n",
      "===== measure PCC quality using `pc_error` version 0.13.4 22.3718\n",
      "===== results:  1 1.05 mseF,PSNR (p2point) 68.1193\n",
      "===== select rho =====\n",
      "1.1\n",
      "===== Post process =====\n",
      "Classify and extract points: 0.3391s\n",
      "Write point cloud to longdress_vox10_1300_rec.ply: 3.4846s\n",
      "===== measure PCC quality using `pc_error` version 0.13.4 22.9781\n",
      "===== results:  2 1.1 mseF,PSNR (p2point) 68.5022\n",
      "===== select rho =====\n",
      "1.1500000000000001\n",
      "===== Post process =====\n",
      "Classify and extract points: 0.3451s\n",
      "Write point cloud to longdress_vox10_1300_rec.ply: 3.5812s\n",
      "===== measure PCC quality using `pc_error` version 0.13.4 24.0211\n",
      "===== results:  3 1.1500000000000001 mseF,PSNR (p2point) 68.5065\n",
      "===== select rho =====\n",
      "1.2000000000000002\n",
      "===== Post process =====\n",
      "Classify and extract points: 0.3569s\n",
      "Write point cloud to longdress_vox10_1300_rec.ply: 3.8998s\n",
      "===== measure PCC quality using `pc_error` version 0.13.4 24.8581\n",
      "===== results:  4 1.2000000000000002 mseF,PSNR (p2point) 68.327\n"
     ]
    }
   ],
   "source": [
    "optimal_d1, all_results = select_rho(\"mseF,PSNR (p2point)\", input_file, output_file, input_file_n, \n",
    "                        cubes_d, points_numbers_d, cube_positions_d, scale, cube_size, res)"
   ]
  },
  {
   "cell_type": "code",
   "execution_count": 63,
   "metadata": {},
   "outputs": [
    {
     "data": {
      "image/png": "[encoded data removed]",
      "text/plain": [
       "<Figure size 432x288 with 1 Axes>"
      ]
     },
     "metadata": {
      "needs_background": "light"
     },
     "output_type": "display_data"
    }
   ],
   "source": [
    "plt.plot(np.array(all_results[\"rho\"][:]), np.array(all_results[\"mseF,PSNR (p2point)\"][:]))\n",
    "plt.title(\"optimal rho for D1 distortion\")\n",
    "_ = plt.xlabel('rho')\n",
    "_ = plt.ylabel('RSNR')"
   ]
  },
  {
   "cell_type": "code",
   "execution_count": 64,
   "metadata": {},
   "outputs": [
    {
     "name": "stdout",
     "output_type": "stream",
     "text": [
      "===== select rho =====\n",
      "1.0\n",
      "===== Post process =====\n",
      "Classify and extract points: 0.7957s\n",
      "Write point cloud to longdress_vox10_1300_rec.ply: 3.2509s\n",
      "===== measure PCC quality using `pc_error` version 0.13.4 22.0556\n",
      "===== results:  0 1.0 mseF,PSNR (p2plane) 71.1413\n",
      "===== select rho =====\n",
      "0.95\n",
      "===== Post process =====\n",
      "Classify and extract points: 0.3473s\n",
      "Write point cloud to longdress_vox10_1300_rec.ply: 3.0599s\n",
      "===== measure PCC quality using `pc_error` version 0.13.4 21.2694\n",
      "===== results:  1 0.95 mseF,PSNR (p2plane) 71.3808\n",
      "===== select rho =====\n",
      "0.8999999999999999\n",
      "===== Post process =====\n",
      "Classify and extract points: 0.3454s\n",
      "Write point cloud to longdress_vox10_1300_rec.ply: 2.8367s\n",
      "===== measure PCC quality using `pc_error` version 0.13.4 20.7336\n",
      "===== results:  2 0.8999999999999999 mseF,PSNR (p2plane) 71.5715\n",
      "===== select rho =====\n",
      "0.8499999999999999\n",
      "===== Post process =====\n",
      "Classify and extract points: 0.342s\n",
      "Write point cloud to longdress_vox10_1300_rec.ply: 2.7797s\n",
      "===== measure PCC quality using `pc_error` version 0.13.4 20.1709\n",
      "===== results:  3 0.8499999999999999 mseF,PSNR (p2plane) 71.3023\n"
     ]
    }
   ],
   "source": [
    "optimal_d2, all_results = select_rho(\"mseF,PSNR (p2plane)\", input_file, output_file, input_file_n, \n",
    "                        cubes_d, points_numbers_d, cube_positions_d, scale, cube_size, res)"
   ]
  },
  {
   "cell_type": "code",
   "execution_count": 65,
   "metadata": {},
   "outputs": [
    {
     "data": {
      "image/png": "[encoded data removed]",
      "text/plain": [
       "<Figure size 432x288 with 1 Axes>"
      ]
     },
     "metadata": {
      "needs_background": "light"
     },
     "output_type": "display_data"
    }
   ],
   "source": [
    "plt.plot(np.array(all_results[\"rho\"][:]), np.array(all_results[\"mseF,PSNR (p2plane)\"][:]))\n",
    "plt.title(\"optimal rho for D2 distortion\")\n",
    "_ = plt.xlabel('rho')\n",
    "_ = plt.ylabel('RSNR')"
   ]
  },
  {
   "cell_type": "code",
   "execution_count": null,
   "metadata": {},
   "outputs": [],
   "source": []
  }
 ],
 "metadata": {
  "kernelspec": {
   "display_name": "Python 3",
   "language": "python",
   "name": "python3"
  },
  "language_info": {
   "codemirror_mode": {
    "name": "ipython",
    "version": 3
   },
   "file_extension": ".py",
   "mimetype": "text/x-python",
   "name": "python",
   "nbconvert_exporter": "python",
   "pygments_lexer": "ipython3",
   "version": "3.6.12"
  }
 },
 "nbformat": 4,
 "nbformat_minor": 2
}
