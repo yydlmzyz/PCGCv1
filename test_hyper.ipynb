{
 "cells": [
  {
   "cell_type": "code",
   "execution_count": 1,
   "metadata": {},
   "outputs": [],
   "source": [
    "# Copyright (c) Nanjing University, Vision Lab.\n",
    "# Jianqiang Wang (wangjq@smail.nju.edu.cn), Hao Zhu, Zhan Ma, Tong Chen, Haojie Liu, Qiu Shen; Nanjing University, Vision Lab.\n",
    "# Chaofei Wang; Shanghai Jiao Tong University, Cooperative Medianet Innovation Center.\n",
    "# Last update: 2019.10.27\n",
    "# 2019.11.14"
   ]
  },
  {
   "cell_type": "code",
   "execution_count": 2,
   "metadata": {},
   "outputs": [],
   "source": [
    "import random"
   ]
  },
  {
   "cell_type": "code",
   "execution_count": 3,
   "metadata": {},
   "outputs": [
    {
     "name": "stderr",
     "output_type": "stream",
     "text": [
      "/home/ubuntu/anaconda3/envs/tf/lib/python3.6/site-packages/tensorflow/python/framework/dtypes.py:526: FutureWarning: Passing (type, 1) or '1type' as a synonym of type is deprecated; in a future version of numpy, it will be understood as (type, (1,)) / '(1,)type'.\n",
      "  _np_qint8 = np.dtype([(\"qint8\", np.int8, 1)])\n",
      "/home/ubuntu/anaconda3/envs/tf/lib/python3.6/site-packages/tensorflow/python/framework/dtypes.py:527: FutureWarning: Passing (type, 1) or '1type' as a synonym of type is deprecated; in a future version of numpy, it will be understood as (type, (1,)) / '(1,)type'.\n",
      "  _np_quint8 = np.dtype([(\"quint8\", np.uint8, 1)])\n",
      "/home/ubuntu/anaconda3/envs/tf/lib/python3.6/site-packages/tensorflow/python/framework/dtypes.py:528: FutureWarning: Passing (type, 1) or '1type' as a synonym of type is deprecated; in a future version of numpy, it will be understood as (type, (1,)) / '(1,)type'.\n",
      "  _np_qint16 = np.dtype([(\"qint16\", np.int16, 1)])\n",
      "/home/ubuntu/anaconda3/envs/tf/lib/python3.6/site-packages/tensorflow/python/framework/dtypes.py:529: FutureWarning: Passing (type, 1) or '1type' as a synonym of type is deprecated; in a future version of numpy, it will be understood as (type, (1,)) / '(1,)type'.\n",
      "  _np_quint16 = np.dtype([(\"quint16\", np.uint16, 1)])\n",
      "/home/ubuntu/anaconda3/envs/tf/lib/python3.6/site-packages/tensorflow/python/framework/dtypes.py:530: FutureWarning: Passing (type, 1) or '1type' as a synonym of type is deprecated; in a future version of numpy, it will be understood as (type, (1,)) / '(1,)type'.\n",
      "  _np_qint32 = np.dtype([(\"qint32\", np.int32, 1)])\n",
      "/home/ubuntu/anaconda3/envs/tf/lib/python3.6/site-packages/tensorflow/python/framework/dtypes.py:535: FutureWarning: Passing (type, 1) or '1type' as a synonym of type is deprecated; in a future version of numpy, it will be understood as (type, (1,)) / '(1,)type'.\n",
      "  np_resource = np.dtype([(\"resource\", np.ubyte, 1)])\n"
     ]
    }
   ],
   "source": [
    "import os\n",
    "import time\n",
    "import numpy as np\n",
    "import pandas as pd\n",
    "import tensorflow as tf\n",
    "import matplotlib.pylab  as plt\n",
    "tf.enable_eager_execution()"
   ]
  },
  {
   "cell_type": "code",
   "execution_count": 4,
   "metadata": {},
   "outputs": [],
   "source": [
    "from mycodec_hyper import preprocess, postprocess, compress, decompress, \\\n",
    "write_binary_files, read_binary_files\n",
    "\n",
    "# if necessary, maybe you should consider compression with low memory, which eocode each block respectively.\n",
    "from mycodec_hyper import preprocess, postprocess, compress_more_less_mem, decompress_less_mem, \\\n",
    "write_binary_files_less_mem, read_binary_files_less_mem"
   ]
  },
  {
   "cell_type": "code",
   "execution_count": 5,
   "metadata": {},
   "outputs": [],
   "source": [
    "import models.model_voxception as model\n",
    "from models.entropy_model import EntropyBottleneck\n",
    "from models.conditional_entropy_model import SymmetricConditional\n",
    "from dataprocess.inout_points import load_ply_data, write_ply_data, load_points, save_points, points2voxels, voxels2points\n",
    "from dataprocess.post_process import select_voxels\n",
    "from myutils.gpcc_wrapper import gpcc_encode, gpcc_decode"
   ]
  },
  {
   "cell_type": "code",
   "execution_count": 6,
   "metadata": {},
   "outputs": [],
   "source": [
    "# os.environ['CUDA_VISIBLE_DEVICES']=\"\"\n",
    "\n",
    "# set gpu.\n",
    "config = tf.ConfigProto()\n",
    "config.gpu_options.per_process_gpu_memory_fraction = 1.0\n",
    "config.gpu_options.allow_growth = True\n",
    "config.log_device_placement=True\n",
    "# config.device_count={'gpu':0}\n",
    "sess = tf.Session(config=config)"
   ]
  },
  {
   "cell_type": "markdown",
   "metadata": {},
   "source": [
    "## Compress"
   ]
  },
  {
   "cell_type": "code",
   "execution_count": 7,
   "metadata": {},
   "outputs": [],
   "source": [
    "# input_file = 'testdata/GPCC_inanimate/Facade_00009_vox12.ply'\n",
    "input_file = 'testdata/8iVFB/longdress_vox10_1300.ply'\n",
    "scale = 1.\n",
    "cube_size = 64\n",
    "min_num = 64\n",
    "\n",
    "res = 1024"
   ]
  },
  {
   "cell_type": "code",
   "execution_count": 8,
   "metadata": {
    "scrolled": true
   },
   "outputs": [
    {
     "name": "stdout",
     "output_type": "stream",
     "text": [
      "===== Preprocess =====\n",
      "Scaling: 0.0s\n",
      "Partition: 10.8939s\n",
      "Voxelization: 0.1651s\n",
      "cubes shape: (202, 64, 64, 64, 1)\n",
      "points numbers (sum/mean/max/min): 857600 4246 11450 78\n"
     ]
    }
   ],
   "source": [
    "cubes, cube_positions, points_numbers = preprocess(input_file, scale, cube_size, min_num)"
   ]
  },
  {
   "cell_type": "code",
   "execution_count": 9,
   "metadata": {
    "scrolled": true
   },
   "outputs": [
    {
     "name": "stdout",
     "output_type": "stream",
     "text": [
      "point_numbers (min/max/mean):  78 11450 4245.544554455446\n"
     ]
    },
    {
     "data": {
      "image/png": "[encoded data removed]",
      "text/plain": [
       "<Figure size 432x288 with 1 Axes>"
      ]
     },
     "metadata": {
      "needs_background": "light"
     },
     "output_type": "display_data"
    }
   ],
   "source": [
    "print('point_numbers (min/max/mean): ', points_numbers.min(), points_numbers.max(), points_numbers.mean())\n",
    "plt.title('points numbers')\n",
    "n, bins, patches = plt.hist(points_numbers, bins=16, range=(1, pow(2, 16)))\n",
    "plt.show()"
   ]
  },
  {
   "cell_type": "code",
   "execution_count": 10,
   "metadata": {},
   "outputs": [],
   "source": [
    "# model = 'model_voxception'\n",
    "import models.model_voxception as model\n",
    "# ckpt_dir = './checkpoints/hyper/a0.75b3/'\n",
    "ckpt_dir = './checkpoints/hyper/a6b3/'"
   ]
  },
  {
   "cell_type": "markdown",
   "metadata": {},
   "source": [
    "## compression required less GPU memory, encode each cube respectively"
   ]
  },
  {
   "cell_type": "code",
   "execution_count": 11,
   "metadata": {
    "scrolled": false
   },
   "outputs": [
    {
     "data": {
      "text/plain": [
       "(202, 64, 64, 64, 1)"
      ]
     },
     "execution_count": 11,
     "metadata": {},
     "output_type": "execute_result"
    }
   ],
   "source": [
    "cubes.shape"
   ]
  },
  {
   "cell_type": "code",
   "execution_count": 12,
   "metadata": {
    "scrolled": true
   },
   "outputs": [],
   "source": [
    "# y_strings, y_min_vs, y_max_vs, y_shape, z_strings, z_min_v, z_max_v, z_shape, x_ds = \\\n",
    "# compress_less_mem(cubes, model, ckpt_dir, True)"
   ]
  },
  {
   "cell_type": "code",
   "execution_count": 13,
   "metadata": {
    "scrolled": false
   },
   "outputs": [
    {
     "name": "stdout",
     "output_type": "stream",
     "text": [
      "===== Compress =====\n",
      "0\n",
      "WARNING:tensorflow:From /home/ubuntu/anaconda3/envs/tf/lib/python3.6/site-packages/tensorflow/python/ops/resource_variable_ops.py:642: colocate_with (from tensorflow.python.framework.ops) is deprecated and will be removed in a future version.\n",
      "Instructions for updating:\n",
      "Colocations handled automatically by placer.\n",
      "245.8868\n"
     ]
    }
   ],
   "source": [
    "start = time.time()\n",
    "y_strings, y_min_vs, y_max_vs, y_shape, z_strings, z_min_v, z_max_v, z_shape, x_ds = \\\n",
    "compress_more_less_mem(cubes, model, ckpt_dir, True)\n",
    "print(round(time.time() - start, 4))"
   ]
  },
  {
   "cell_type": "code",
   "execution_count": 14,
   "metadata": {},
   "outputs": [],
   "source": [
    "filename = os.path.split(input_file)[-1][:-4]\n",
    "rootdir = './compressed/'"
   ]
  },
  {
   "cell_type": "code",
   "execution_count": 15,
   "metadata": {
    "scrolled": false
   },
   "outputs": [
    {
     "name": "stdout",
     "output_type": "stream",
     "text": [
      "===== Write binary files =====\n",
      "Total file size (Bytes): 31513\n",
      "Strings (Bytes): 23467\n",
      "Strings head (Bytes): 422\n",
      "Strings hyper (Bytes): 7130\n",
      "Numbers of points (Bytes): 404\n",
      "Positions of cubes (Bytes): 90\n"
     ]
    }
   ],
   "source": [
    "bytes_strings, bytes_strings_head, bytes_strings_hyper, bytes_pointnums, bytes_cubepos = \\\n",
    "    write_binary_files_less_mem(\n",
    "    filename, y_strings.numpy(), z_strings.numpy(), points_numbers, cube_positions,\n",
    "    y_min_vs.numpy(), y_max_vs.numpy(), y_shape.numpy(), \n",
    "    z_min_v.numpy(), z_max_v.numpy(), z_shape.numpy(), rootdir)"
   ]
  },
  {
   "cell_type": "code",
   "execution_count": 16,
   "metadata": {
    "scrolled": false
   },
   "outputs": [
    {
     "name": "stdout",
     "output_type": "stream",
     "text": [
      "===== Read binary files =====\n"
     ]
    }
   ],
   "source": [
    "y_strings_d, z_strings_d, points_numbers_d, cube_positions_d, \\\n",
    "y_min_vs_d, y_max_vs_d, y_shape_d, z_min_v_d, z_max_v_d, z_shape_d = \\\n",
    "read_binary_files_less_mem(filename, rootdir)"
   ]
  },
  {
   "cell_type": "code",
   "execution_count": 17,
   "metadata": {
    "scrolled": true
   },
   "outputs": [],
   "source": [
    "# cubes_d = decompress_less_mem(y_strings_d, y_min_vs_d.astype('int32'), y_max_vs_d.astype('int32'), y_shape_d, \n",
    "#                      z_strings_d, z_min_v_d, z_max_v_d, z_shape_d, model, ckpt_dir)"
   ]
  },
  {
   "cell_type": "markdown",
   "metadata": {},
   "source": [
    "## compression required more GPU memory, encode all cubes togrther"
   ]
  },
  {
   "cell_type": "code",
   "execution_count": 18,
   "metadata": {},
   "outputs": [],
   "source": [
    "# y_strings, y_min_v, y_max_v, y_shape, z_strings, z_min_v, z_max_v, z_shape, x_ds = \\\n",
    "# compress(cubes, model, ckpt_dir, True)\n",
    "\n",
    "# bytes_strings, bytes_strings_hyper, bytes_pointnums, bytes_cubepos = write_binary_files(\n",
    "#     filename, y_strings.numpy(), z_strings.numpy(), points_numbers, cube_positions,\n",
    "#     y_min_v.numpy(), y_max_v.numpy(), y_shape.numpy(), \n",
    "#     z_min_v.numpy(), z_max_v.numpy(), z_shape.numpy(), rootdir)\n",
    "\n",
    "# y_strings_d, z_strings_d, points_numbers_d, cube_positions_d, \\\n",
    "# y_min_v_d, y_max_v_d, y_shape_d, z_min_v_d, z_max_v_d, z_shape_d = \\\n",
    "# read_binary_files(filename, rootdir)\n",
    "\n",
    "# cubes_d = decompress(y_strings_d, y_min_v_d, y_max_v_d, y_shape_d, \n",
    "#                      z_strings_d, z_min_v_d, z_max_v_d, z_shape_d, model, ckpt_dir)"
   ]
  },
  {
   "cell_type": "markdown",
   "metadata": {},
   "source": [
    "### check GPU error, if error, try CPU"
   ]
  },
  {
   "cell_type": "code",
   "execution_count": 19,
   "metadata": {
    "scrolled": true
   },
   "outputs": [],
   "source": [
    "# tf.reduce_max(tf.abs(cubes_d - x_ds))"
   ]
  },
  {
   "cell_type": "code",
   "execution_count": 20,
   "metadata": {},
   "outputs": [],
   "source": [
    "cubes_d = x_ds"
   ]
  },
  {
   "cell_type": "code",
   "execution_count": 21,
   "metadata": {},
   "outputs": [
    {
     "name": "stdout",
     "output_type": "stream",
     "text": [
      "longdress_vox10_1300_rec.ply\n"
     ]
    }
   ],
   "source": [
    "rho = 1.0\n",
    "# output_file = './rec.ply'\n",
    "output_file = filename + \"_rec.ply\"\n",
    "print(output_file)"
   ]
  },
  {
   "cell_type": "code",
   "execution_count": 22,
   "metadata": {
    "scrolled": true
   },
   "outputs": [
    {
     "name": "stdout",
     "output_type": "stream",
     "text": [
      "===== Post process =====\n",
      "Classify and extract points: 1.332s\n",
      "Write point cloud to longdress_vox10_1300_rec.ply: 3.5596s\n"
     ]
    }
   ],
   "source": [
    "# postprocess(output_file, cubes_d, points_numbers_d, cube_positions_d, scale, cube_size, rho)\n",
    "\n",
    "# cheat\n",
    "postprocess(output_file, x_ds, points_numbers_d, cube_positions_d, scale, cube_size, rho)"
   ]
  },
  {
   "cell_type": "markdown",
   "metadata": {},
   "source": [
    "## Metrics"
   ]
  },
  {
   "cell_type": "markdown",
   "metadata": {},
   "source": [
    "### BPP"
   ]
  },
  {
   "cell_type": "code",
   "execution_count": 23,
   "metadata": {},
   "outputs": [],
   "source": [
    "def get_points_number(filedir):\n",
    "    plyfile = open(filedir)\n",
    "\n",
    "    line = plyfile.readline()\n",
    "    while line.find(\"element vertex\") == -1:\n",
    "        line = plyfile.readline()\n",
    "    number = float(line.split(' ')[-1][:-1])\n",
    "    \n",
    "    return number"
   ]
  },
  {
   "cell_type": "code",
   "execution_count": 24,
   "metadata": {},
   "outputs": [
    {
     "name": "stdout",
     "output_type": "stream",
     "text": [
      "857966.0\n"
     ]
    }
   ],
   "source": [
    "N = get_points_number(input_file)\n",
    "print(N)"
   ]
  },
  {
   "cell_type": "code",
   "execution_count": 25,
   "metadata": {},
   "outputs": [
    {
     "name": "stdout",
     "output_type": "stream",
     "text": [
      "bpp:  0.2938391498031391\n",
      "strings:  0.21881519780504122 strings_head:  0.003934887862689198 strings_hyper:  0.06648282099756866 points numbers:  0.0037670490439015067 cubes positions:  0.0008391940939384545\n"
     ]
    }
   ],
   "source": [
    "print(\"bpp: \", 8*(bytes_strings + bytes_strings_head + bytes_strings_hyper + bytes_pointnums + bytes_cubepos)/N)\n",
    "print(\"strings: \", 8*bytes_strings/N, \"strings_head: \", 8*bytes_strings_head/N, \\\n",
    "\"strings_hyper: \", 8*bytes_strings_hyper/N, \\\n",
    "\"points numbers: \", 8*bytes_pointnums/N, \"cubes positions: \", 8*bytes_cubepos/N)"
   ]
  },
  {
   "cell_type": "markdown",
   "metadata": {},
   "source": [
    "### pc_error"
   ]
  },
  {
   "cell_type": "code",
   "execution_count": 26,
   "metadata": {
    "scrolled": true
   },
   "outputs": [
    {
     "name": "stdout",
     "output_type": "stream",
     "text": [
      "b'PCC quality measurement software, version 0.13.4\\n'\n",
      "b'\\n'\n",
      "b'infile1:        testdata/8iVFB/longdress_vox10_1300.ply\\n'\n",
      "b'infile2:        longdress_vox10_1300_rec.ply\\n'\n",
      "b'normal1:        testdata/8iVFB/longdress_vox10_1300.ply\\n'\n",
      "b'singlePass:     0\\n'\n",
      "b'hausdorff:      1\\n'\n",
      "b'color:          0\\n'\n",
      "b'lidar:          0\\n'\n",
      "b'resolution:     1023\\n'\n",
      "b'dropDuplicates: 2\\n'\n",
      "b'neighborsProc:  1\\n'\n",
      "b'averageNormals: 1\\n'\n",
      "b'nbThreads:      1\\n'\n",
      "b'\\n'\n",
      "b'Verifying if the data is loaded correctly.. The last point is: 256 902 320\\n'\n",
      "b'Reading file 1 done.\\n'\n",
      "b'Normals loaded from file1.\\n'\n",
      "b'Verifying if the data is loaded correctly.. The last point is: 221 960 320\\n'\n",
      "b'Reading file 2 done.\\n'\n",
      "b'Imported intrinsic resoluiton: 1023\\n'\n",
      "b'Peak distance for PSNR: 1023\\n'\n",
      "b'Point cloud sizes for org version, dec version, and the scaling ratio: 857966, 857398, 0.999338\\n'\n",
      "b'Normals prepared.\\n'\n",
      "b'\\n'\n",
      "b'1. Use infile1 (A) as reference, loop over A, use normals on B. (A->B).\\n'\n",
      "b'   mse1      (p2point): 0.144764\\n'\n",
      "b'   mse1,PSNR (p2point): 73.3621\\n'\n",
      "b'   mse1      (p2plane): 0.0544755\\n'\n",
      "b'   mse1,PSNR (p2plane): 77.6067\\n'\n",
      "b'   h.       1(p2point): 27\\n'\n",
      "b'   h.,PSNR  1(p2point): 50.6551\\n'\n",
      "b'   h.       1(p2plane): 5.59411\\n'\n",
      "b'   h.,PSNR  1(p2plane): 57.4914\\n'\n",
      "b'2. Use infile2 (B) as reference, loop over B, use normals on A. (B->A).\\n'\n",
      "b'   mse2      (p2point): 0.138448\\n'\n",
      "b'   mse2,PSNR (p2point): 73.5559\\n'\n",
      "b'   mse2      (p2plane): 0.061621\\n'\n",
      "b'   mse2,PSNR (p2plane): 77.0714\\n'\n",
      "b'   h.       2(p2point): 9\\n'\n",
      "b'   h.,PSNR  2(p2point): 55.4263\\n'\n",
      "b'   h.       2(p2plane): 6.41906\\n'\n",
      "b'   h.,PSNR  2(p2plane): 56.894\\n'\n",
      "b'3. Final (symmetric).\\n'\n",
      "b'   mseF      (p2point): 0.144764\\n'\n",
      "b'   mseF,PSNR (p2point): 73.3621\\n'\n",
      "b'   mseF      (p2plane): 0.061621\\n'\n",
      "b'   mseF,PSNR (p2plane): 77.0714\\n'\n",
      "b'   h.        (p2point): 27\\n'\n",
      "b'   h.,PSNR   (p2point): 50.6551\\n'\n",
      "b'   h.        (p2plane): 6.41906\\n'\n",
      "b'   h.,PSNR   (p2plane): 56.894\\n'\n",
      "b'Job done! 12.06 seconds elapsed (excluding the time to load the point clouds).\\n'\n",
      "None\n"
     ]
    }
   ],
   "source": [
    "import subprocess\n",
    "\n",
    "input_file_n = input_file[:-4]+'.ply'\n",
    "subp=subprocess.Popen(\"myutils/pc_error_d\" \n",
    "                      + ' -a ' + input_file\n",
    "                      + ' -b ' + output_file\n",
    "                      +' -n ' + input_file \n",
    "                      + ' --hausdorff=1 '\n",
    "                      + \" -r \"+str(res-1), \n",
    "                      shell=True, stdout=subprocess.PIPE)\n",
    "\n",
    "c=subp.stdout.readline()\n",
    "while c:\n",
    "    print(c)\n",
    "    c=subp.stdout.readline()\n",
    "\n",
    "print(subp.returncode)"
   ]
  },
  {
   "cell_type": "code",
   "execution_count": 40,
   "metadata": {},
   "outputs": [
    {
     "data": {
      "text/plain": [
       "True"
      ]
     },
     "execution_count": 40,
     "metadata": {},
     "output_type": "execute_result"
    }
   ],
   "source": [
    "import open3d as o3d\n",
    "\n",
    "pcd = o3d.read_point_cloud(input_file)\n",
    "o3d.estimate_normals(pcd, search_param=o3d.geometry.KDTreeSearchParamHybrid(radius=20, max_nn=20))"
   ]
  },
  {
   "cell_type": "code",
   "execution_count": 41,
   "metadata": {},
   "outputs": [],
   "source": [
    "o3d.draw_geometries([pcd])"
   ]
  },
  {
   "cell_type": "code",
   "execution_count": 42,
   "metadata": {},
   "outputs": [],
   "source": [
    "pcd_rec = o3d.read_point_cloud(output_file)\n",
    "o3d.estimate_normals(pcd_rec, search_param=o3d.geometry.KDTreeSearchParamHybrid(radius=20, max_nn=20))\n",
    "o3d.draw_geometries([pcd_rec])"
   ]
  },
  {
   "cell_type": "code",
   "execution_count": 43,
   "metadata": {},
   "outputs": [],
   "source": [
    "# Move the original point cloud\n",
    "pcd_rec.points = o3d.Vector3dVector(np.array(pcd_rec.points) + np.array([256, 0, 0]))"
   ]
  },
  {
   "cell_type": "code",
   "execution_count": 44,
   "metadata": {},
   "outputs": [],
   "source": [
    "o3d.draw_geometries([pcd, pcd_rec])"
   ]
  },
  {
   "cell_type": "markdown",
   "metadata": {},
   "source": [
    "---\n",
    "## How to select optimal rho?"
   ]
  },
  {
   "cell_type": "code",
   "execution_count": 45,
   "metadata": {},
   "outputs": [],
   "source": [
    "from myutils.pc_error_wrapper import pc_error\n",
    "from myutils.pc_error_wrapper import get_points_number"
   ]
  },
  {
   "cell_type": "code",
   "execution_count": 46,
   "metadata": {},
   "outputs": [],
   "source": [
    "def select_rho(item, input_file, output_file, input_file_n, \n",
    "               cubes_d, points_numbers_d, cube_positions_d, scale, cube_size, res):\n",
    "\n",
    "    steps = [0.05]*6+[0.10]*3\n",
    "    MAX = 0\n",
    "    rho = 1.0\n",
    "    optimal_rho = 1.0\n",
    "\n",
    "    for i, step in enumerate(steps):\n",
    "        print('===== select rho =====')\n",
    "        postprocess(output_file, cubes_d, points_numbers_d, cube_positions_d, scale, cube_size, rho)\n",
    "        results = pc_error(input_file, output_file, input_file_n, res, show=False)\n",
    "        \n",
    "        # record results.\n",
    "        results[\"n_points\"] = get_points_number(output_file)\n",
    "        results[\"rho\"] = rho\n",
    "        if i == 0:\n",
    "            all_results = results.copy(deep=True)\n",
    "        else:\n",
    "            all_results = all_results.append(results, ignore_index=True)\n",
    "        \n",
    "\n",
    "        PSNR = float(results[item])\n",
    "        print('===== results: ', i, rho, item, PSNR)\n",
    "\n",
    "        MAX = max(PSNR, MAX)\n",
    "        if PSNR < MAX:\n",
    "            break\n",
    "        else:\n",
    "            optimal_rho = rho\n",
    "\n",
    "        if item == \"mseF,PSNR (p2point)\":\n",
    "            rho += step\n",
    "        elif item == \"mseF,PSNR (p2plane)\":\n",
    "            rho -= step\n",
    "        else:\n",
    "            print('ERROR', item)\n",
    "            break\n",
    "    \n",
    "    return optimal_rho, all_results"
   ]
  },
  {
   "cell_type": "markdown",
   "metadata": {},
   "source": [
    "### pick rho for optimal D1 distortion"
   ]
  },
  {
   "cell_type": "code",
   "execution_count": 47,
   "metadata": {
    "scrolled": true
   },
   "outputs": [
    {
     "name": "stdout",
     "output_type": "stream",
     "text": [
      "===== select rho =====\n",
      "===== Post process =====\n",
      "Classify and extract points: 0.7366s\n",
      "Write point cloud to longdress_vox10_1300_rec.ply: 3.583s\n",
      "===== measure PCC quality using `pc_error` version 0.13.4 22.3799\n",
      "===== results:  0 1.0 mseF,PSNR (p2point) 73.3621\n",
      "===== select rho =====\n",
      "===== Post process =====\n",
      "Classify and extract points: 0.484s\n",
      "Write point cloud to longdress_vox10_1300_rec.ply: 3.7335s\n",
      "===== measure PCC quality using `pc_error` version 0.13.4 22.9884\n",
      "===== results:  1 1.05 mseF,PSNR (p2point) 72.9951\n"
     ]
    }
   ],
   "source": [
    "optimal_d1, all_results = select_rho(\"mseF,PSNR (p2point)\", input_file, output_file, input_file_n, \n",
    "                        cubes_d, points_numbers_d, cube_positions_d, scale, cube_size, res)"
   ]
  },
  {
   "cell_type": "code",
   "execution_count": 48,
   "metadata": {
    "scrolled": true
   },
   "outputs": [
    {
     "data": {
      "text/html": [
       "<div>\n",
       "<style scoped>\n",
       "    .dataframe tbody tr th:only-of-type {\n",
       "        vertical-align: middle;\n",
       "    }\n",
       "\n",
       "    .dataframe tbody tr th {\n",
       "        vertical-align: top;\n",
       "    }\n",
       "\n",
       "    .dataframe thead th {\n",
       "        text-align: right;\n",
       "    }\n",
       "</style>\n",
       "<table border=\"1\" class=\"dataframe\">\n",
       "  <thead>\n",
       "    <tr style=\"text-align: right;\">\n",
       "      <th></th>\n",
       "      <th>mse1      (p2point)</th>\n",
       "      <th>mse1,PSNR (p2point)</th>\n",
       "      <th>mse1      (p2plane)</th>\n",
       "      <th>mse1,PSNR (p2plane)</th>\n",
       "      <th>h.       1(p2point)</th>\n",
       "      <th>h.,PSNR  1(p2point)</th>\n",
       "      <th>h.       1(p2plane)</th>\n",
       "      <th>h.,PSNR  1(p2plane)</th>\n",
       "      <th>mse2      (p2point)</th>\n",
       "      <th>mse2,PSNR (p2point)</th>\n",
       "      <th>...</th>\n",
       "      <th>mseF      (p2point)</th>\n",
       "      <th>mseF,PSNR (p2point)</th>\n",
       "      <th>mseF      (p2plane)</th>\n",
       "      <th>mseF,PSNR (p2plane)</th>\n",
       "      <th>h.        (p2point)</th>\n",
       "      <th>h.,PSNR   (p2point)</th>\n",
       "      <th>h.        (p2plane)</th>\n",
       "      <th>h.,PSNR   (p2plane)</th>\n",
       "      <th>n_points</th>\n",
       "      <th>rho</th>\n",
       "    </tr>\n",
       "  </thead>\n",
       "  <tbody>\n",
       "    <tr>\n",
       "      <th>0</th>\n",
       "      <td>0.144764</td>\n",
       "      <td>73.3621</td>\n",
       "      <td>0.054476</td>\n",
       "      <td>77.6067</td>\n",
       "      <td>27.0</td>\n",
       "      <td>50.6551</td>\n",
       "      <td>5.59411</td>\n",
       "      <td>57.4914</td>\n",
       "      <td>0.138448</td>\n",
       "      <td>73.5559</td>\n",
       "      <td>...</td>\n",
       "      <td>0.144764</td>\n",
       "      <td>73.3621</td>\n",
       "      <td>0.061621</td>\n",
       "      <td>77.0714</td>\n",
       "      <td>27.0</td>\n",
       "      <td>50.6551</td>\n",
       "      <td>6.41906</td>\n",
       "      <td>56.8940</td>\n",
       "      <td>857398</td>\n",
       "      <td>1.00</td>\n",
       "    </tr>\n",
       "    <tr>\n",
       "      <th>1</th>\n",
       "      <td>0.118626</td>\n",
       "      <td>74.2269</td>\n",
       "      <td>0.045283</td>\n",
       "      <td>78.4094</td>\n",
       "      <td>26.0</td>\n",
       "      <td>50.8190</td>\n",
       "      <td>4.37311</td>\n",
       "      <td>58.5608</td>\n",
       "      <td>0.157529</td>\n",
       "      <td>72.9951</td>\n",
       "      <td>...</td>\n",
       "      <td>0.157529</td>\n",
       "      <td>72.9951</td>\n",
       "      <td>0.071011</td>\n",
       "      <td>76.4555</td>\n",
       "      <td>26.0</td>\n",
       "      <td>50.8190</td>\n",
       "      <td>7.36371</td>\n",
       "      <td>56.2978</td>\n",
       "      <td>900178</td>\n",
       "      <td>1.05</td>\n",
       "    </tr>\n",
       "  </tbody>\n",
       "</table>\n",
       "<p>2 rows × 26 columns</p>\n",
       "</div>"
      ],
      "text/plain": [
       "   mse1      (p2point)  mse1,PSNR (p2point)  mse1      (p2plane)  \\\n",
       "0             0.144764              73.3621             0.054476   \n",
       "1             0.118626              74.2269             0.045283   \n",
       "\n",
       "   mse1,PSNR (p2plane)  h.       1(p2point)  h.,PSNR  1(p2point)  \\\n",
       "0              77.6067                 27.0              50.6551   \n",
       "1              78.4094                 26.0              50.8190   \n",
       "\n",
       "   h.       1(p2plane)  h.,PSNR  1(p2plane)  mse2      (p2point)  \\\n",
       "0              5.59411              57.4914             0.138448   \n",
       "1              4.37311              58.5608             0.157529   \n",
       "\n",
       "   mse2,PSNR (p2point)  ...  mseF      (p2point)  mseF,PSNR (p2point)  \\\n",
       "0              73.5559  ...             0.144764              73.3621   \n",
       "1              72.9951  ...             0.157529              72.9951   \n",
       "\n",
       "   mseF      (p2plane)  mseF,PSNR (p2plane)  h.        (p2point)  \\\n",
       "0             0.061621              77.0714                 27.0   \n",
       "1             0.071011              76.4555                 26.0   \n",
       "\n",
       "   h.,PSNR   (p2point)  h.        (p2plane)  h.,PSNR   (p2plane)  n_points  \\\n",
       "0              50.6551              6.41906              56.8940    857398   \n",
       "1              50.8190              7.36371              56.2978    900178   \n",
       "\n",
       "    rho  \n",
       "0  1.00  \n",
       "1  1.05  \n",
       "\n",
       "[2 rows x 26 columns]"
      ]
     },
     "execution_count": 48,
     "metadata": {},
     "output_type": "execute_result"
    }
   ],
   "source": [
    "all_results"
   ]
  },
  {
   "cell_type": "code",
   "execution_count": 49,
   "metadata": {},
   "outputs": [
    {
     "data": {
      "image/png": "[encoded data removed]",
      "text/plain": [
       "<Figure size 432x288 with 1 Axes>"
      ]
     },
     "metadata": {
      "needs_background": "light"
     },
     "output_type": "display_data"
    }
   ],
   "source": [
    "plt.plot(np.array(all_results[\"rho\"][:]), np.array(all_results[\"mseF,PSNR (p2point)\"][:]))\n",
    "plt.title(\"optimal rho for D1 distortion\")\n",
    "_ = plt.xlabel('rho')\n",
    "_ = plt.ylabel('RSNR')"
   ]
  },
  {
   "cell_type": "markdown",
   "metadata": {},
   "source": [
    "### pick rho for optimal D2 distortion"
   ]
  },
  {
   "cell_type": "code",
   "execution_count": 50,
   "metadata": {
    "scrolled": true
   },
   "outputs": [
    {
     "name": "stdout",
     "output_type": "stream",
     "text": [
      "===== select rho =====\n",
      "===== Post process =====\n",
      "Classify and extract points: 0.3534s\n",
      "Write point cloud to longdress_vox10_1300_rec.ply: 3.5071s\n",
      "===== measure PCC quality using `pc_error` version 0.13.4 22.7066\n",
      "===== results:  0 1.0 mseF,PSNR (p2plane) 77.0714\n",
      "===== select rho =====\n",
      "===== Post process =====\n",
      "Classify and extract points: 0.3596s\n",
      "Write point cloud to longdress_vox10_1300_rec.ply: 3.373s\n",
      "===== measure PCC quality using `pc_error` version 0.13.4 21.8672\n",
      "===== results:  1 0.95 mseF,PSNR (p2plane) 76.8678\n"
     ]
    }
   ],
   "source": [
    "optimal_d2, all_results = select_rho(\"mseF,PSNR (p2plane)\", input_file, output_file, input_file_n, \n",
    "                        cubes_d, points_numbers_d, cube_positions_d, scale, cube_size, res)"
   ]
  },
  {
   "cell_type": "code",
   "execution_count": 51,
   "metadata": {},
   "outputs": [
    {
     "data": {
      "text/html": [
       "<div>\n",
       "<style scoped>\n",
       "    .dataframe tbody tr th:only-of-type {\n",
       "        vertical-align: middle;\n",
       "    }\n",
       "\n",
       "    .dataframe tbody tr th {\n",
       "        vertical-align: top;\n",
       "    }\n",
       "\n",
       "    .dataframe thead th {\n",
       "        text-align: right;\n",
       "    }\n",
       "</style>\n",
       "<table border=\"1\" class=\"dataframe\">\n",
       "  <thead>\n",
       "    <tr style=\"text-align: right;\">\n",
       "      <th></th>\n",
       "      <th>mse1      (p2point)</th>\n",
       "      <th>mse1,PSNR (p2point)</th>\n",
       "      <th>mse1      (p2plane)</th>\n",
       "      <th>mse1,PSNR (p2plane)</th>\n",
       "      <th>h.       1(p2point)</th>\n",
       "      <th>h.,PSNR  1(p2point)</th>\n",
       "      <th>h.       1(p2plane)</th>\n",
       "      <th>h.,PSNR  1(p2plane)</th>\n",
       "      <th>mse2      (p2point)</th>\n",
       "      <th>mse2,PSNR (p2point)</th>\n",
       "      <th>...</th>\n",
       "      <th>mseF      (p2point)</th>\n",
       "      <th>mseF,PSNR (p2point)</th>\n",
       "      <th>mseF      (p2plane)</th>\n",
       "      <th>mseF,PSNR (p2plane)</th>\n",
       "      <th>h.        (p2point)</th>\n",
       "      <th>h.,PSNR   (p2point)</th>\n",
       "      <th>h.        (p2plane)</th>\n",
       "      <th>h.,PSNR   (p2plane)</th>\n",
       "      <th>n_points</th>\n",
       "      <th>rho</th>\n",
       "    </tr>\n",
       "  </thead>\n",
       "  <tbody>\n",
       "    <tr>\n",
       "      <th>0</th>\n",
       "      <td>0.144764</td>\n",
       "      <td>73.3621</td>\n",
       "      <td>0.054476</td>\n",
       "      <td>77.6067</td>\n",
       "      <td>27.0</td>\n",
       "      <td>50.6551</td>\n",
       "      <td>5.59411</td>\n",
       "      <td>57.4914</td>\n",
       "      <td>0.138448</td>\n",
       "      <td>73.5559</td>\n",
       "      <td>...</td>\n",
       "      <td>0.144764</td>\n",
       "      <td>73.3621</td>\n",
       "      <td>0.061621</td>\n",
       "      <td>77.0714</td>\n",
       "      <td>27.0</td>\n",
       "      <td>50.6551</td>\n",
       "      <td>6.41906</td>\n",
       "      <td>56.8940</td>\n",
       "      <td>857398</td>\n",
       "      <td>1.00</td>\n",
       "    </tr>\n",
       "    <tr>\n",
       "      <th>1</th>\n",
       "      <td>0.176748</td>\n",
       "      <td>72.4952</td>\n",
       "      <td>0.064579</td>\n",
       "      <td>76.8678</td>\n",
       "      <td>37.0</td>\n",
       "      <td>49.2867</td>\n",
       "      <td>5.58361</td>\n",
       "      <td>57.4996</td>\n",
       "      <td>0.121043</td>\n",
       "      <td>74.1393</td>\n",
       "      <td>...</td>\n",
       "      <td>0.176748</td>\n",
       "      <td>72.4952</td>\n",
       "      <td>0.064579</td>\n",
       "      <td>76.8678</td>\n",
       "      <td>37.0</td>\n",
       "      <td>49.2867</td>\n",
       "      <td>5.95338</td>\n",
       "      <td>57.2211</td>\n",
       "      <td>814419</td>\n",
       "      <td>0.95</td>\n",
       "    </tr>\n",
       "  </tbody>\n",
       "</table>\n",
       "<p>2 rows × 26 columns</p>\n",
       "</div>"
      ],
      "text/plain": [
       "   mse1      (p2point)  mse1,PSNR (p2point)  mse1      (p2plane)  \\\n",
       "0             0.144764              73.3621             0.054476   \n",
       "1             0.176748              72.4952             0.064579   \n",
       "\n",
       "   mse1,PSNR (p2plane)  h.       1(p2point)  h.,PSNR  1(p2point)  \\\n",
       "0              77.6067                 27.0              50.6551   \n",
       "1              76.8678                 37.0              49.2867   \n",
       "\n",
       "   h.       1(p2plane)  h.,PSNR  1(p2plane)  mse2      (p2point)  \\\n",
       "0              5.59411              57.4914             0.138448   \n",
       "1              5.58361              57.4996             0.121043   \n",
       "\n",
       "   mse2,PSNR (p2point)  ...  mseF      (p2point)  mseF,PSNR (p2point)  \\\n",
       "0              73.5559  ...             0.144764              73.3621   \n",
       "1              74.1393  ...             0.176748              72.4952   \n",
       "\n",
       "   mseF      (p2plane)  mseF,PSNR (p2plane)  h.        (p2point)  \\\n",
       "0             0.061621              77.0714                 27.0   \n",
       "1             0.064579              76.8678                 37.0   \n",
       "\n",
       "   h.,PSNR   (p2point)  h.        (p2plane)  h.,PSNR   (p2plane)  n_points  \\\n",
       "0              50.6551              6.41906              56.8940    857398   \n",
       "1              49.2867              5.95338              57.2211    814419   \n",
       "\n",
       "    rho  \n",
       "0  1.00  \n",
       "1  0.95  \n",
       "\n",
       "[2 rows x 26 columns]"
      ]
     },
     "execution_count": 51,
     "metadata": {},
     "output_type": "execute_result"
    }
   ],
   "source": [
    "all_results"
   ]
  },
  {
   "cell_type": "code",
   "execution_count": 52,
   "metadata": {},
   "outputs": [
    {
     "data": {
      "image/png": "[encoded data removed]",
      "text/plain": [
       "<Figure size 432x288 with 1 Axes>"
      ]
     },
     "metadata": {
      "needs_background": "light"
     },
     "output_type": "display_data"
    }
   ],
   "source": [
    "plt.plot(np.array(all_results[\"rho\"][:]), np.array(all_results[\"mseF,PSNR (p2plane)\"][:]))\n",
    "plt.title(\"optimal rho for D2 distortion\")\n",
    "_ = plt.xlabel('rho')\n",
    "_ = plt.ylabel('RSNR')"
   ]
  }
 ],
 "metadata": {
  "kernelspec": {
   "display_name": "Python 2",
   "language": "python",
   "name": "python2"
  },
  "language_info": {
   "codemirror_mode": {
    "name": "ipython",
    "version": 3
   },
   "file_extension": ".py",
   "mimetype": "text/x-python",
   "name": "python",
   "nbconvert_exporter": "python",
   "pygments_lexer": "ipython3",
   "version": "3.6.12"
  }
 },
 "nbformat": 4,
 "nbformat_minor": 2
}
